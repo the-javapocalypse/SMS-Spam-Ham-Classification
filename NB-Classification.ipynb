{
 "cells": [
  {
   "cell_type": "markdown",
   "metadata": {},
   "source": [
    "# SMS Spam Classification using Multinomial Naive Bayes\n",
    "\n",
    "In this project, we will create two models based on Multinomial NB. \n",
    "First model will classify using the standard formula for Multinomial Naive Bayes.\n",
    "The second model will take in account the length of documents as fefatures, since length have a visible effect on class (Spam or Ham) as shown in the graph you will see shortly.\n",
    "\n",
    "```P(cl|doc,len) = (P(doc,len|cl) * P(cl)) / P(doc,len)\n",
    "              = (P(doc|cl) * P(len|cl) * P(cl)) / (P(doc) * P(len))\n",
    "              = (P(doc|cl) * P(cl)) / P(doc) * P(len|cl) / P(len)\n",
    "              = P(cl|doc) * P(len|cl) / P(len)```"
   ]
  },
  {
   "cell_type": "code",
   "execution_count": 31,
   "metadata": {
    "collapsed": true
   },
   "outputs": [],
   "source": [
    "# Importing Necessary Modules\n",
    "\n",
    "import pandas as pd\n",
    "import string\n",
    "from nltk.corpus import stopwords\n",
    "import collections\n",
    "import matplotlib\n",
    "import matplotlib.pyplot as plt\n",
    "import numpy as np\n",
    "import seaborn as sns\n",
    "import re"
   ]
  },
  {
   "cell_type": "markdown",
   "metadata": {},
   "source": [
    "### Reading Data\n",
    "\n",
    "We will read the raw text file and store the data in an organized way into a csv. We will create a column SPAM. Inside the SPAM column, 1 denotes that the document is spam, 0 denotes it is not spam."
   ]
  },
  {
   "cell_type": "code",
   "execution_count": 50,
   "metadata": {},
   "outputs": [
    {
     "name": "stdout",
     "output_type": "stream",
     "text": [
      "500  Rows Written\n",
      "1000  Rows Written\n",
      "1500  Rows Written\n",
      "2000  Rows Written\n",
      "2500  Rows Written\n",
      "3000  Rows Written\n",
      "3500  Rows Written\n",
      "4000  Rows Written\n",
      "4500  Rows Written\n",
      "5000  Rows Written\n",
      "5500  Rows Written\n",
      "Total Spam SMS:  747\n",
      "Total Ham SMS:  4827\n"
     ]
    }
   ],
   "source": [
    "data_file = 'SMSSpamCollection.txt'\n",
    "\n",
    "with open(data_file,'r') as f:\n",
    "    csv_file = open(\"data.csv\", \"w+\") \n",
    "    columnTitleRow = \"SMS,SPAM\\n\"\n",
    "    csv_file.write(columnTitleRow)\n",
    "    counter = 0\n",
    "    spamCounter = 0\n",
    "    hamCounter = 0\n",
    "    for line in f:\n",
    "        counter+=1\n",
    "        if counter%500==0:\n",
    "            print(counter,\" Rows Written\")\n",
    "        if 'spam' in line[:4]:\n",
    "            line = line[4:]\n",
    "            t=1\n",
    "            spamCounter+=1\n",
    "        else:\n",
    "            line = line[3:]\n",
    "            t=0\n",
    "            hamCounter+=1\n",
    "        row = line.replace(\"\\n\",\"\").replace(\",\",\"\").replace(\"\\t\",\"\") + \",\" + str(t) + \"\\n\"\n",
    "        csv_file.write(row)\n",
    "csv_file.close()\n",
    "\n",
    "print(\"Total Spam SMS: \",spamCounter)\n",
    "print(\"Total Ham SMS: \",hamCounter)"
   ]
  },
  {
   "cell_type": "markdown",
   "metadata": {},
   "source": [
    "### Loading Dataset \n",
    "\n",
    "Now let's load data into dataframe from the csv we created above"
   ]
  },
  {
   "cell_type": "code",
   "execution_count": 9,
   "metadata": {},
   "outputs": [
    {
     "name": "stdout",
     "output_type": "stream",
     "text": [
      "                                                 SMS  SPAM\n",
      "0  Go until jurong point crazy.. Available only i...     0\n",
      "1                      Ok lar... Joking wif u oni...     0\n",
      "2  Free entry in 2 a wkly comp to win FA Cup fina...     1\n",
      "3  U dun say so early hor... U c already then say...     0\n",
      "4  Nah I don't think he goes to usf he lives arou...     0\n"
     ]
    }
   ],
   "source": [
    "df = pd.read_csv('data.csv')\n",
    "print(df.head())"
   ]
  },
  {
   "cell_type": "markdown",
   "metadata": {},
   "source": [
    "##### Declaring some variables that will be used in calculating the probabilities"
   ]
  },
  {
   "cell_type": "code",
   "execution_count": 51,
   "metadata": {
    "collapsed": true
   },
   "outputs": [],
   "source": [
    "data_info = df.groupby('SPAM').size()\n",
    "TOTAL_SPAM = data_info[1]\n",
    "TOTAL_HAM = data_info[0]\n",
    "PRIOR_SPAM = TOTAL_SPAM/(TOTAL_SPAM + TOTAL_HAM)\n",
    "PRIOR_HAM = TOTAL_HAM/(TOTAL_SPAM + TOTAL_HAM)"
   ]
  },
  {
   "cell_type": "markdown",
   "metadata": {},
   "source": [
    "### Extracting New Feature\n",
    "\n",
    "Creating a new feature LENGTH, which will be used in another model to demonstrate the improvement in accuracy."
   ]
  },
  {
   "cell_type": "code",
   "execution_count": 11,
   "metadata": {},
   "outputs": [
    {
     "name": "stdout",
     "output_type": "stream",
     "text": [
      "                                                 SMS  SPAM  LENGTH\n",
      "0  Go until jurong point crazy.. Available only i...     0     110\n",
      "1                      Ok lar... Joking wif u oni...     0      29\n",
      "2  Free entry in 2 a wkly comp to win FA Cup fina...     1     155\n",
      "3  U dun say so early hor... U c already then say...     0      49\n",
      "4  Nah I don't think he goes to usf he lives arou...     0      60\n",
      "\n",
      "\n",
      "Max length of HAM:  910\n",
      "Max length of SPAM:  222\n"
     ]
    }
   ],
   "source": [
    "df['LENGTH'] = df['SMS'].apply(len)\n",
    "print(df.head())\n",
    "print(\"\\n\")\n",
    "print(\"Max length of HAM: \",df[(df['SPAM']==0)].LENGTH.max())\n",
    "print(\"Max length of SPAM: \",df[(df['SPAM']==1)].LENGTH.max())"
   ]
  },
  {
   "cell_type": "markdown",
   "metadata": {},
   "source": [
    "It can be clearly seen that for spam sms, the length is not more than 200. For Hams, the legth goes upto 910"
   ]
  },
  {
   "cell_type": "code",
   "execution_count": 7,
   "metadata": {},
   "outputs": [
    {
     "data": {
      "image/png": "[encoded data removed]",
      "text/plain": [
       "<matplotlib.figure.Figure at 0x25dfb5029b0>"
      ]
     },
     "metadata": {},
     "output_type": "display_data"
    }
   ],
   "source": [
    "sns.lmplot( x=\"SPAM\", y=\"LENGTH\", data=df, fit_reg=False, hue='SPAM', legend=False)\n",
    "sns.plt.show()"
   ]
  },
  {
   "cell_type": "code",
   "execution_count": 38,
   "metadata": {},
   "outputs": [
    {
     "data": {
      "text/html": [
       "<div>\n",
       "<style>\n",
       "    .dataframe thead tr:only-child th {\n",
       "        text-align: right;\n",
       "    }\n",
       "\n",
       "    .dataframe thead th {\n",
       "        text-align: left;\n",
       "    }\n",
       "\n",
       "    .dataframe tbody tr th {\n",
       "        vertical-align: top;\n",
       "    }\n",
       "</style>\n",
       "<table border=\"1\" class=\"dataframe\">\n",
       "  <thead>\n",
       "    <tr style=\"text-align: right;\">\n",
       "      <th></th>\n",
       "      <th>SMS</th>\n",
       "      <th>SPAM</th>\n",
       "      <th>LENGTH</th>\n",
       "    </tr>\n",
       "  </thead>\n",
       "  <tbody>\n",
       "    <tr>\n",
       "      <th>2101</th>\n",
       "      <td>Oh Howda gud gud.. Mathe en samachara chikku:-)</td>\n",
       "      <td>0</td>\n",
       "      <td>47</td>\n",
       "    </tr>\n",
       "  </tbody>\n",
       "</table>\n",
       "</div>"
      ],
      "text/plain": [
       "                                                  SMS  SPAM  LENGTH\n",
       "2101  Oh Howda gud gud.. Mathe en samachara chikku:-)     0      47"
      ]
     },
     "execution_count": 38,
     "metadata": {},
     "output_type": "execute_result"
    }
   ],
   "source": [
    "len(training_df[(training_df['SMS'].str.contains(r'\\ben\\b'))].index)\n",
    "training_df[(training_df['SMS'].str.contains(r'\\ben\\b'))]"
   ]
  },
  {
   "cell_type": "code",
   "execution_count": 12,
   "metadata": {
    "collapsed": true
   },
   "outputs": [],
   "source": []
  },
  {
   "cell_type": "markdown",
   "metadata": {},
   "source": [
    "### Removing Punctuation and building Vocab"
   ]
  },
  {
   "cell_type": "code",
   "execution_count": 13,
   "metadata": {
    "collapsed": true
   },
   "outputs": [],
   "source": [
    "## Removing punctuation\n",
    "t = [''.join(c for c in s if c not in string.punctuation) for s in df['SMS'].values.flatten()]\n",
    "# Building vocab and removing stop words\n",
    "vocab = collections.Counter([y for x in t for y in x.split(\" \") if y.lower() not in stopwords.words('english')])"
   ]
  },
  {
   "cell_type": "code",
   "execution_count": 14,
   "metadata": {},
   "outputs": [
    {
     "data": {
      "text/plain": [
       "[('', 1871),\n",
       " ('u', 786),\n",
       " ('2', 482),\n",
       " ('call', 392),\n",
       " ('U', 346),\n",
       " ('get', 335),\n",
       " ('Im', 313),\n",
       " ('ur', 297),\n",
       " ('4', 293),\n",
       " ('ltgt', 276)]"
      ]
     },
     "execution_count": 14,
     "metadata": {},
     "output_type": "execute_result"
    }
   ],
   "source": [
    "# Most Frequent terms and their frequency\n",
    "vocab.most_common(10)"
   ]
  },
  {
   "cell_type": "code",
   "execution_count": 15,
   "metadata": {
    "collapsed": true
   },
   "outputs": [],
   "source": [
    "V = len(vocab)"
   ]
  },
  {
   "cell_type": "markdown",
   "metadata": {},
   "source": [
    "### Splitting data into Training and Validation sets."
   ]
  },
  {
   "cell_type": "code",
   "execution_count": 42,
   "metadata": {
    "collapsed": true
   },
   "outputs": [],
   "source": [
    "validation_df = df.iloc[:200]\n",
    "training_df = df.iloc[200:]"
   ]
  },
  {
   "cell_type": "code",
   "execution_count": 43,
   "metadata": {},
   "outputs": [
    {
     "name": "stdout",
     "output_type": "stream",
     "text": [
      "17051 67087\n"
     ]
    }
   ],
   "source": [
    "# Calculating terms in spam and ham\n",
    "\n",
    "terms_in_spam = terms_in_ham = 0\n",
    "for index, row in training_df.iterrows():\n",
    "    if row['SPAM']==1:\n",
    "        terms_in_spam += len(row['SMS'].split(\" \"))\n",
    "    elif row['SPAM']==0:\n",
    "        terms_in_ham += len(row['SMS'].split(\" \"))\n",
    "print(terms_in_spam, terms_in_ham)"
   ]
  },
  {
   "cell_type": "markdown",
   "metadata": {},
   "source": [
    "# BASIC MULTINOMIAL NB CLASSIFIER\n",
    "\n",
    "We were able to achieve accuracy of 87.8% using the standard Multiomial NB classification."
   ]
  },
  {
   "cell_type": "code",
   "execution_count": 44,
   "metadata": {
    "collapsed": true
   },
   "outputs": [],
   "source": [
    "def single_predict(sms):\n",
    "    sms = [''.join(c for c in s if c not in string.punctuation) for s in sms]\n",
    "    sms = ''.join(sms).split(\" \")\n",
    "    spam_prob = PRIOR_SPAM\n",
    "    ham_prob = PRIOR_HAM\n",
    "    terms_in_spam = terms_in_ham = 0\n",
    "    flag = 0\n",
    "    for term in sms:\n",
    "        term = r'\\b'+term+'\\b'\n",
    "        spam_count = ham_count = 0\n",
    "        for index, row in training_df[(training_df['SMS'].str.contains(term))].iterrows():\n",
    "            \n",
    "            if row['SPAM']==1:\n",
    "                spam_count+=1\n",
    "                \n",
    "            else:\n",
    "                ham_count+=1\n",
    "\n",
    "    spam_prob = spam_prob * ( (spam_count + 1) / (terms_in_spam + V) )\n",
    "    ham_prob = ham_prob * ( (ham_count + 1) / (terms_in_ham + V) )\n",
    "                \n",
    "    if spam_prob>ham_prob:\n",
    "        return 1\n",
    "    else:\n",
    "        return 0\n"
   ]
  },
  {
   "cell_type": "code",
   "execution_count": 45,
   "metadata": {
    "collapsed": true
   },
   "outputs": [],
   "source": [
    "def Standard_NB_Classifier(df):\n",
    "    total = 0\n",
    "    correct = 0\n",
    "    correct_spam = 0\n",
    "    correct_ham = 0\n",
    "    for index, row in df.iterrows():\n",
    "        if single_predict(row['SMS'])==row['SPAM']:\n",
    "            correct+=1\n",
    "            if row['SPAM'] == 1:\n",
    "                correct_spam = correct_spam+1\n",
    "            else:\n",
    "                correct_ham = correct_ham+1\n",
    "        total+=1\n",
    "        if(total%50==0):\n",
    "            print(\"Querries Processed: \",total)\n",
    "            \n",
    "    print(\"Accuracy: \",(correct/total)*100,\"%\")\n",
    "    print(\"Correct Predictions: \",correct,\"/\",len(df.index))\n",
    "            \n",
    "    data_info = df.groupby('SPAM').size()\n",
    "    TOTAL_SPAM = data_info[1]\n",
    "    TOTAL_HAM = data_info[0]    \n",
    "    \n",
    "    print(\"Confusion Matrix\")\n",
    "    print(\"[\",correct_spam,TOTAL_SPAM,\"]\\n[\",correct_ham,TOTAL_HAM,\"]\")\n",
    "    "
   ]
  },
  {
   "cell_type": "code",
   "execution_count": 46,
   "metadata": {},
   "outputs": [
    {
     "name": "stdout",
     "output_type": "stream",
     "text": [
      "Querries Processed:  50\n",
      "Querries Processed:  100\n",
      "Querries Processed:  150\n",
      "Querries Processed:  200\n",
      "Accuracy:  83.5 %\n",
      "Correct Predictions:  167 / 200\n",
      "Confusion Matrix\n",
      "[ 0 33 ]\n",
      "[ 167 167 ]\n"
     ]
    }
   ],
   "source": [
    "Standard_NB_Classifier(validation_df)"
   ]
  },
  {
   "cell_type": "markdown",
   "metadata": {},
   "source": [
    "### MULTINOMIAL NB USING LENGTH AS A FEATURE\n",
    "\n",
    "We were able to increase the accuracy upto 89% by using length of documents as a feature."
   ]
  },
  {
   "cell_type": "code",
   "execution_count": 226,
   "metadata": {
    "collapsed": true
   },
   "outputs": [],
   "source": [
    "def single_predict_improved(sms):\n",
    "    sms = [''.join(c for c in s if c not in string.punctuation) for s in sms]\n",
    "    sms = ''.join(sms).split(\" \")\n",
    "    avg_length_spam = 0\n",
    "    avg_length_ham = 0\n",
    "    spam_prob = PRIOR_SPAM\n",
    "    ham_prob = PRIOR_HAM\n",
    "    terms_in_spam = terms_in_ham = 0\n",
    "    flag = 0\n",
    "    for term in sms:\n",
    "        term = \" \"+term+\" \"\n",
    "        spam_count = ham_count = 0\n",
    "        for index, row in training_df[(training_df['SMS'].str.contains(term))].iterrows():\n",
    "            if row['SPAM']==1:\n",
    "                spam_count+=1\n",
    "                avg_length_spam = avg_length_spam + row['LENGTH']\n",
    "            else:\n",
    "                ham_count+=1\n",
    "                avg_length_ham = avg_length_ham + row['LENGTH']\n",
    "                \n",
    "    avg_length_spam = avg_length_spam / len(training_df[(training_df['SPAM']==1)].index)\n",
    "    avg_length_ham = avg_length_ham / len(training_df[(training_df['SPAM']==0)].index)\n",
    "    spam_prob = (spam_prob * ( (spam_count + 1) / (terms_in_spam + V) )) * ((avg_length_spam + 1) / (len(sms) + 1))\n",
    "    ham_prob = (ham_prob * ( (ham_count + 1) / (terms_in_ham + V) )) * ((avg_length_ham + 1) / (len(sms) + 1))\n",
    "             \n",
    "#     print(avg_length_spam,avg_length_ham)\n",
    "#     print(spam_prob,ham_prob)\n",
    "    if spam_prob>ham_prob:\n",
    "        return 1\n",
    "    else:\n",
    "        return 0"
   ]
  },
  {
   "cell_type": "code",
   "execution_count": 227,
   "metadata": {
    "collapsed": true
   },
   "outputs": [],
   "source": [
    "def Improved_NB_Classifier(df):\n",
    "    total = 0\n",
    "    correct = 0\n",
    "    correct_spam = 0\n",
    "    correct_ham = 0\n",
    "    for index, row in df.iterrows():\n",
    "        if single_predict_improved(row['SMS'])==row['SPAM']:\n",
    "            correct+=1\n",
    "            if row['SPAM'] == 1:\n",
    "                correct_spam = correct_spam+1\n",
    "            else:\n",
    "                correct_ham = correct_ham+1\n",
    "        total+=1\n",
    "        if(total%50==0):\n",
    "            print(\"Querries Processed: \",total)\n",
    "            \n",
    "    print(\"Accuracy: \",(correct/total)*100,\"%\")\n",
    "    print(\"Correct Predictions: \",correct,\"/\",len(df.index))\n",
    "            \n",
    "    data_info = df.groupby('SPAM').size()\n",
    "    TOTAL_SPAM = data_info[1]\n",
    "    TOTAL_HAM = data_info[0]    \n",
    "    \n",
    "    print(\"Confusion Matrix\")\n",
    "    print(\"[\",correct_spam,TOTAL_SPAM,\"]\\n[\",correct_ham,TOTAL_HAM,\"]\")"
   ]
  },
  {
   "cell_type": "code",
   "execution_count": 228,
   "metadata": {},
   "outputs": [
    {
     "name": "stdout",
     "output_type": "stream",
     "text": [
      "Querries Processed:  50\n",
      "Querries Processed:  100\n",
      "Querries Processed:  150\n",
      "Querries Processed:  200\n",
      "Querries Processed:  250\n",
      "Querries Processed:  300\n",
      "Querries Processed:  350\n",
      "Querries Processed:  400\n",
      "Querries Processed:  450\n",
      "Querries Processed:  500\n",
      "Accuracy:  89.0 %\n",
      "Correct Predictions:  445 / 500\n",
      "Confusion Matrix\n",
      "[ 18 71 ]\n",
      "[ 427 429 ]\n"
     ]
    }
   ],
   "source": [
    "Improved_NB_Classifier(validation_df)"
   ]
  },
  {
   "cell_type": "code",
   "execution_count": null,
   "metadata": {
    "collapsed": true
   },
   "outputs": [],
   "source": []
  }
 ],
 "metadata": {
  "kernelspec": {
   "display_name": "Python 3",
   "language": "python",
   "name": "python3"
  },
  "language_info": {
   "codemirror_mode": {
    "name": "ipython",
    "version": 3
   },
   "file_extension": ".py",
   "mimetype": "text/x-python",
   "name": "python",
   "nbconvert_exporter": "python",
   "pygments_lexer": "ipython3",
   "version": "3.6.1"
  }
 },
 "nbformat": 4,
 "nbformat_minor": 2
}
