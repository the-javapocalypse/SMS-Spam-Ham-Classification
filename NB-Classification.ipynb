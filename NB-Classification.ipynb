{
 "cells": [
  {
   "cell_type": "markdown",
   "metadata": {},
   "source": [
    "# SMS Spam Classification using Multinomial Naive Bayes\n",
    "\n",
    "In this project, we will create three models based on Multinomial NB which differs on the basis of features. \n",
    "\n",
    "First model will classify using the standard formula for Multinomial Naive Bayes.\n",
    "\n",
    "The second model will take in account the length of documents as feature, since length have a visible effect on class (Spam or Ham) as shown in the graph you will see shortly.\n",
    "\n",
    "```\n",
    "P(cl|doc,len) = (P(doc,len|cl) * P(cl)) / P(doc,len)\n",
    "              = (P(doc|cl) * P(len|cl) * P(cl)) / (P(doc) * P(len))\n",
    "              = (P(doc|cl) * P(cl)) / P(doc) * P(len|cl) / P(len)\n",
    "              = P(cl|doc) * P(len|cl) / P(len)\n",
    "```\n",
    "              \n",
    "\n",
    "\n",
    "The third model will take in account the length as well as the term frequency as features for classification."
   ]
  },
  {
   "cell_type": "code",
   "execution_count": 48,
   "metadata": {
    "collapsed": true
   },
   "outputs": [],
   "source": [
    "# Importing Necessary Modules\n",
    "\n",
    "import pandas as pd\n",
    "import string\n",
    "from nltk.corpus import stopwords\n",
    "import collections\n",
    "import matplotlib\n",
    "import matplotlib.pyplot as plt\n",
    "import numpy as np\n",
    "import seaborn as sns\n",
    "import re"
   ]
  },
  {
   "cell_type": "markdown",
   "metadata": {},
   "source": [
    "### Reading Data\n",
    "\n",
    "We will read the raw text file and store the data in an organized way into a csv. We will create a column SPAM. Inside the SPAM column, 1 denotes that the document is spam, 0 denotes it is not spam."
   ]
  },
  {
   "cell_type": "code",
   "execution_count": 3,
   "metadata": {},
   "outputs": [
    {
     "name": "stdout",
     "output_type": "stream",
     "text": [
      "500  Rows Written\n",
      "1000  Rows Written\n",
      "1500  Rows Written\n",
      "2000  Rows Written\n",
      "2500  Rows Written\n",
      "3000  Rows Written\n",
      "3500  Rows Written\n",
      "4000  Rows Written\n",
      "4500  Rows Written\n",
      "5000  Rows Written\n",
      "5500  Rows Written\n",
      "Total Spam SMS:  747\n",
      "Total Ham SMS:  4827\n"
     ]
    }
   ],
   "source": [
    "data_file = 'SMSSpamCollection.txt'\n",
    "\n",
    "with open(data_file,'r') as f:\n",
    "    csv_file = open(\"data.csv\", \"w+\") \n",
    "    columnTitleRow = \"SMS,SPAM\\n\"\n",
    "    csv_file.write(columnTitleRow)\n",
    "    counter = 0\n",
    "    spamCounter = 0\n",
    "    hamCounter = 0\n",
    "    for line in f:\n",
    "        counter+=1\n",
    "        if counter%500==0:\n",
    "            print(counter,\" Rows Written\")\n",
    "        if 'spam' in line[:4]:\n",
    "            line = line[4:]\n",
    "            t=1\n",
    "            spamCounter+=1\n",
    "        else:\n",
    "            line = line[3:]\n",
    "            t=0\n",
    "            hamCounter+=1\n",
    "        row = line.replace(\"\\n\",\"\").replace(\",\",\"\").replace(\"\\t\",\"\") + \",\" + str(t) + \"\\n\"\n",
    "        csv_file.write(row)\n",
    "csv_file.close()\n",
    "\n",
    "print(\"Total Spam SMS: \",spamCounter)\n",
    "print(\"Total Ham SMS: \",hamCounter)"
   ]
  },
  {
   "cell_type": "markdown",
   "metadata": {},
   "source": [
    "### Loading Dataset \n",
    "\n",
    "Now let's load data into dataframe from the csv we created above"
   ]
  },
  {
   "cell_type": "code",
   "execution_count": 18,
   "metadata": {},
   "outputs": [
    {
     "name": "stdout",
     "output_type": "stream",
     "text": [
      "                                                 SMS  SPAM\n",
      "0  Go until jurong point crazy.. Available only i...     0\n",
      "1                      Ok lar... Joking wif u oni...     0\n",
      "2  Free entry in 2 a wkly comp to win FA Cup fina...     1\n",
      "3  U dun say so early hor... U c already then say...     0\n",
      "4  Nah I don't think he goes to usf he lives arou...     0\n"
     ]
    }
   ],
   "source": [
    "df = pd.read_csv('data.csv')\n",
    "print(df.head(5))"
   ]
  },
  {
   "cell_type": "markdown",
   "metadata": {},
   "source": [
    "### Extracting New Feature\n",
    "\n",
    "Creating a new feature LENGTH, which will be used as a feature to demonstrate the improvement in accuracy. It can be clearly seen in scatterplot that for spam sms, the length is not more than 200. For Hams, the legth goes upto 910."
   ]
  },
  {
   "cell_type": "code",
   "execution_count": 19,
   "metadata": {},
   "outputs": [
    {
     "name": "stdout",
     "output_type": "stream",
     "text": [
      "                                                 SMS  SPAM  LENGTH\n",
      "0  Go until jurong point crazy.. Available only i...     0     110\n",
      "1                      Ok lar... Joking wif u oni...     0      29\n",
      "2  Free entry in 2 a wkly comp to win FA Cup fina...     1     155\n",
      "3  U dun say so early hor... U c already then say...     0      49\n",
      "4  Nah I don't think he goes to usf he lives arou...     0      60\n",
      "\n",
      "\n",
      "Max length of HAM:  910\n",
      "Max length of SPAM:  222\n"
     ]
    }
   ],
   "source": [
    "df['LENGTH'] = df['SMS'].apply(len)\n",
    "print(df.head())\n",
    "print(\"\\n\")\n",
    "print(\"Max length of HAM: \",df[(df['SPAM']==0)].LENGTH.max())\n",
    "print(\"Max length of SPAM: \",df[(df['SPAM']==1)].LENGTH.max())"
   ]
  },
  {
   "cell_type": "code",
   "execution_count": 7,
   "metadata": {},
   "outputs": [
    {
     "data": {
      "image/png": "[encoded data removed]",
      "text/plain": [
       "<matplotlib.figure.Figure at 0x25dfb5029b0>"
      ]
     },
     "metadata": {},
     "output_type": "display_data"
    }
   ],
   "source": [
    "sns.lmplot( x=\"SPAM\", y=\"LENGTH\", data=df, fit_reg=False, hue='SPAM', legend=False)\n",
    "sns.plt.show()"
   ]
  },
  {
   "cell_type": "markdown",
   "metadata": {},
   "source": [
    "#### Removing Punctuations and changing to lower case\n",
    "\n",
    "\n",
    " \n"
   ]
  },
  {
   "cell_type": "code",
   "execution_count": 68,
   "metadata": {
    "collapsed": true
   },
   "outputs": [],
   "source": [
    "df['SMS'] = df['SMS'].str.lower()\n",
    "df['SMS'] = df['SMS'].apply(lambda x:''.join([i for i in x if i not in string.punctuation]))"
   ]
  },
  {
   "cell_type": "markdown",
   "metadata": {},
   "source": [
    "## Creating our classifier\n",
    "\n",
    "Following is our custom NB classifier class that will provide some usefull apis too."
   ]
  },
  {
   "cell_type": "code",
   "execution_count": 137,
   "metadata": {},
   "outputs": [],
   "source": [
    "class NaiveBayes:\n",
    "    def __init__(self):\n",
    "        \n",
    "        # All variables used in calculations are kept private\n",
    "        self.__TOTAL_SPAM = 0\n",
    "        self.__TOTAL_HAM = 0\n",
    "        self.__PRIOR_SPAM = 0\n",
    "        self.__PRIOR_HAM = 0\n",
    "        self.__TERMS_IN_SPAM = 0\n",
    "        self.__TERMS_IN_HAM = 0\n",
    "        self.__TOTAL_TERMS_IN_SPAM = 0\n",
    "        self.__TOTAL_TERMS_IN_HAM = 0\n",
    "        self.__AVG_LENGTH_SPAM = 0\n",
    "        self.__AVG_LENGTH_HAM = 0\n",
    "        self.__V = 0\n",
    "        self.__SPAM_VOCAB = 0\n",
    "        self.__HAM_VOCAB = 0\n",
    "        self.mode = 0\n",
    "\n",
    "    # Api to split data in training and validation datasets\n",
    "    def split_data(self,df,ratio):\n",
    "        df_size = len(df.index)\n",
    "        return df.iloc[int(df_size * ratio):] , df.iloc[:int(df_size * ratio)]\n",
    "    \n",
    "    # Method to train our classifier\n",
    "    # Mode == 0 => Standard NB\n",
    "    # Mode == 1 => Standard NB + Length as Feature\n",
    "    # Mode == 2 => Standard NB + Length and Term Frequency as Features\n",
    "    def fit(self, df, mode):\n",
    "        self.mode = mode\n",
    "        data_info = training_df.groupby('SPAM').size()\n",
    "\n",
    "        self.__TOTAL_SPAM = data_info[1]\n",
    "        self.__TOTAL_HAM = data_info[0]\n",
    "        self.__PRIOR_SPAM = self.__TOTAL_SPAM/(self.__TOTAL_SPAM + self.__TOTAL_HAM)\n",
    "        self.__PRIOR_HAM = self.__TOTAL_HAM/(self.__TOTAL_SPAM + self.__TOTAL_HAM)\n",
    "\n",
    "        spam_df = df[df['SPAM']==1]\n",
    "        ham_df = df[df['SPAM']==0]\n",
    "\n",
    "        if mode == 1:\n",
    "            self.__AVG_LENGTH_SPAM = spam_df['LENGTH'].mean()\n",
    "            self.__AVG_LENGTH_HAM = ham_df['LENGTH'].mean()\n",
    "\n",
    "\n",
    "        self.__SPAM_VOCAB = collections.Counter([y for x in spam_df['SMS'].tolist() for y in x.split(\" \") ])\n",
    "        self.__HAM_VOCAB = collections.Counter([y for x in ham_df['SMS'].tolist() for y in x.split(\" \") ]) \n",
    "\n",
    "        self.__TERMS_IN_SPAM = len(self.__SPAM_VOCAB)\n",
    "        self.__TERMS_IN_HAM = len(self.__HAM_VOCAB)\n",
    "        self.__TOTAL_TERMS_IN_SPAM = len(spam_df.index)\n",
    "        self.__TOTAL_TERMS_IN_HAM = len(ham_df.index)\n",
    "\n",
    "        self.__V = self.__TERMS_IN_SPAM + self.__TERMS_IN_HAM\n",
    "            \n",
    "        \n",
    "        \n",
    "   # Method to predict any single SMS     \n",
    "    def predict(self,sms):\n",
    "        sms = sms.lower()\n",
    "        sms = [''.join(c for c in s if c not in string.punctuation) for s in sms]\n",
    "        sms = ''.join(sms).split(\" \")\n",
    "        spam_prob = self.__PRIOR_SPAM\n",
    "        ham_prob = self.__PRIOR_HAM\n",
    "\n",
    "        most_common_spam = self.__SPAM_VOCAB.most_common(1)[0][1]\n",
    "        most_common_ham = self.__HAM_VOCAB.most_common(1)[0][1]\n",
    "        \n",
    "        for term in sms:\n",
    "            if self.mode == 1:\n",
    "                spam_prob = spam_prob * ( (self.__SPAM_VOCAB[term] + 1) / (self.__TERMS_IN_SPAM + self.__V) ) * ( (self.__AVG_LENGTH_SPAM + 1) / (len(sms) + 1) )\n",
    "                ham_prob = ham_prob * ( (self.__HAM_VOCAB[term] + 1) / (self.__TERMS_IN_HAM + self.__V) ) * ( (self.__AVG_LENGTH_HAM + 1) / (len(sms) + 1) )\n",
    "\n",
    "            if self.mode == 2:\n",
    "                spam_prob = spam_prob * ( (self.__SPAM_VOCAB[term] + 1) / (self.__TERMS_IN_SPAM + self.__V) ) * ( (self.__AVG_LENGTH_SPAM + 1) / (len(sms) + 1) ) * ( (self.__SPAM_VOCAB[term] + 1) / most_common_spam )    \n",
    "                ham_prob = ham_prob * ( (self.__HAM_VOCAB[term] + 1) / (self.__TERMS_IN_HAM + self.__V) ) * ( (self.__AVG_LENGTH_HAM + 1) / (len(sms) + 1) )  * ( (self.__HAM_VOCAB[term] + 1) / most_common_ham)\n",
    "                \n",
    "                \n",
    "            else:\n",
    "                spam_prob = spam_prob * ( (self.__SPAM_VOCAB[term] + 1) / (self.__TERMS_IN_SPAM + self.__V) )\n",
    "                ham_prob = ham_prob * ( (self.__HAM_VOCAB[term] + 1) / (self.__TERMS_IN_HAM + self.__V) )  \n",
    "\n",
    "            \n",
    "        if spam_prob>ham_prob:\n",
    "            return 1\n",
    "        else:\n",
    "            return 0\n",
    "    \n",
    "    \n",
    "    # Method to perform validation in batch\n",
    "    def validate(self,df):\n",
    "        total = 0\n",
    "        correct = 0\n",
    "        correct_spam = 0\n",
    "        correct_ham = 0\n",
    "        for index, row in df.iterrows():\n",
    "            if self.predict(row['SMS'])==row['SPAM']:\n",
    "                correct+=1\n",
    "                if row['SPAM'] == 1:\n",
    "                    correct_spam = correct_spam+1\n",
    "                else:\n",
    "                    correct_ham = correct_ham+1\n",
    "\n",
    "            total+=1\n",
    "            if(total%50==0):\n",
    "                print(\"Querries Processed: \",total)\n",
    "\n",
    "        print(\"Accuracy: \",round((correct/total)*100, 2),\"%\")\n",
    "        print(\"Correct Predictions: \",correct,\"/\",len(df.index))\n",
    "\n",
    "        data_info = df.groupby('SPAM').size()\n",
    "        TOTAL_SPAM = data_info[1]\n",
    "        TOTAL_HAM = data_info[0]    \n",
    "\n",
    "        print(\"Confusion Matrix\")\n",
    "        print(\"[\",correct_spam,TOTAL_SPAM,\"]\\n[\",correct_ham,TOTAL_HAM,\"]\")\n",
    "\n",
    "    \n",
    "    \n",
    "    def most_common_spam(self,num):\n",
    "        try:\n",
    "            print(\"\\n======= Most Common Spam Terms & their Frequency=======\\n\\n\")\n",
    "            for term, freq in self.__SPAM_VOCAB.most_common(num):\n",
    "                print(term, freq)\n",
    "            \n",
    "        except:\n",
    "            print(\"Vocab Empty!\")\n",
    "        \n",
    "    def most_common_ham(self,num):\n",
    "        try:\n",
    "            print(\"\\n======= Most Common Ham Terms & their Frequency=======\\n\\n\")\n",
    "            for term, freq in self.__HAM_VOCAB.most_common(num):\n",
    "                print(term, freq)        \n",
    "        except:\n",
    "            print(\"Vocab Empty!\")\n",
    "            \n",
    "    def save_model(self):\n",
    "        with open(\"model.txt\",\"w+\") as f:\n",
    "            f.write(str(self.__TOTAL_SPAM))\n",
    "            f.write(\"\\n\")\n",
    "            f.write(str(self.__TOTAL_HAM))\n",
    "            f.write(\"\\n\")            \n",
    "            f.write(str(self.__PRIOR_SPAM))\n",
    "            f.write(\"\\n\")\n",
    "            f.write(str(self.__PRIOR_HAM))\n",
    "            f.write(\"\\n\")\n",
    "            f.write(str(self.__TERMS_IN_SPAM))\n",
    "            f.write(\"\\n\")\n",
    "            f.write(str(self.__TERMS_IN_HAM))\n",
    "            f.write(\"\\n\")            \n",
    "            f.write(str(self.__TOTAL_TERMS_IN_SPAM))\n",
    "            f.write(\"\\n\")\n",
    "            f.write(str(self.__TOTAL_TERMS_IN_HAM))\n",
    "            f.write(\"\\n\")    \n",
    "            f.write(str(self.__AVG_LENGTH_SPAM))\n",
    "            f.write(\"\\n\")\n",
    "            f.write(str(self.__AVG_LENGTH_HAM))\n",
    "            f.write(\"\\n\")\n",
    "            f.write(str(self.__V))\n",
    "            f.write(\"\\n\")\n",
    "            f.write(str(self.__SPAM_VOCAB))\n",
    "            f.write(\"\\n\")            \n",
    "            f.write(str(self.__HAM_VOCAB))\n",
    "        print(\"Model Saved!\")\n",
    "\n",
    "\n",
    "                \n",
    "                \n",
    "                "
   ]
  },
  {
   "cell_type": "markdown",
   "metadata": {},
   "source": [
    "Now Lets test our classifier. First split data into training and testing sets"
   ]
  },
  {
   "cell_type": "code",
   "execution_count": 138,
   "metadata": {},
   "outputs": [],
   "source": [
    "nb = NaiveBayes()\n",
    "# 10% for validation, 90% for training\n",
    "validation_data, training_data = nb.split_data(df,0.90)"
   ]
  },
  {
   "cell_type": "markdown",
   "metadata": {},
   "source": [
    "### Model with standard Multinomial NB"
   ]
  },
  {
   "cell_type": "code",
   "execution_count": 139,
   "metadata": {},
   "outputs": [
    {
     "name": "stdout",
     "output_type": "stream",
     "text": [
      "Querries Processed:  50\n",
      "Querries Processed:  100\n",
      "Querries Processed:  150\n",
      "Querries Processed:  200\n",
      "Querries Processed:  250\n",
      "Querries Processed:  300\n",
      "Querries Processed:  350\n",
      "Querries Processed:  400\n",
      "Querries Processed:  450\n",
      "Querries Processed:  500\n",
      "Querries Processed:  550\n",
      "Accuracy:  96.42 %\n",
      "Correct Predictions:  538 / 558\n",
      "Confusion Matrix\n",
      "[ 52 72 ]\n",
      "[ 486 486 ]\n"
     ]
    }
   ],
   "source": [
    "# Training our classifier\n",
    "nb.fit(training_data,0)\n",
    "# Validating Our Classifier\n",
    "nb.validate(validation_data)"
   ]
  },
  {
   "cell_type": "markdown",
   "metadata": {},
   "source": [
    "### Multinomial NB with LENGTH of documents as Feature"
   ]
  },
  {
   "cell_type": "code",
   "execution_count": 140,
   "metadata": {},
   "outputs": [
    {
     "name": "stdout",
     "output_type": "stream",
     "text": [
      "Querries Processed:  50\n",
      "Querries Processed:  100\n",
      "Querries Processed:  150\n",
      "Querries Processed:  200\n",
      "Querries Processed:  250\n",
      "Querries Processed:  300\n",
      "Querries Processed:  350\n",
      "Querries Processed:  400\n",
      "Querries Processed:  450\n",
      "Querries Processed:  500\n",
      "Querries Processed:  550\n",
      "Accuracy:  98.39 %\n",
      "Correct Predictions:  549 / 558\n",
      "Confusion Matrix\n",
      "[ 65 72 ]\n",
      "[ 484 486 ]\n"
     ]
    }
   ],
   "source": [
    "# Training our classifier\n",
    "nb.fit(training_data,1)\n",
    "# Validating Our Classifier\n",
    "nb.validate(validation_data)"
   ]
  },
  {
   "cell_type": "markdown",
   "metadata": {},
   "source": [
    "### Multinomial NB with LENGTH of documents and Term Frequencty as Features"
   ]
  },
  {
   "cell_type": "code",
   "execution_count": 141,
   "metadata": {},
   "outputs": [
    {
     "name": "stdout",
     "output_type": "stream",
     "text": [
      "Querries Processed:  50\n",
      "Querries Processed:  100\n",
      "Querries Processed:  150\n",
      "Querries Processed:  200\n",
      "Querries Processed:  250\n",
      "Querries Processed:  300\n",
      "Querries Processed:  350\n",
      "Querries Processed:  400\n",
      "Querries Processed:  450\n",
      "Querries Processed:  500\n",
      "Querries Processed:  550\n",
      "Accuracy:  98.21 %\n",
      "Correct Predictions:  548 / 558\n",
      "Confusion Matrix\n",
      "[ 70 72 ]\n",
      "[ 478 486 ]\n"
     ]
    }
   ],
   "source": [
    "# Training our classifier\n",
    "nb.fit(training_data,2)\n",
    "# Validating Our Classifier\n",
    "nb.validate(validation_data)"
   ]
  },
  {
   "cell_type": "markdown",
   "metadata": {},
   "source": [
    "Most common N terms in spams and hams"
   ]
  },
  {
   "cell_type": "code",
   "execution_count": 143,
   "metadata": {},
   "outputs": [
    {
     "name": "stdout",
     "output_type": "stream",
     "text": [
      "\n",
      "======= Most Common Spam Terms & their Frequency=======\n",
      "\n",
      "\n",
      "to 624\n",
      "a 343\n",
      "call 304\n",
      "you 258\n",
      "your 234\n",
      " 227\n",
      "free 190\n",
      "the 182\n",
      "now 176\n",
      "for 176\n",
      "\n",
      "======= Most Common Ham Terms & their Frequency=======\n",
      "\n",
      "\n",
      "i 1963\n",
      "you 1656\n",
      " 1435\n",
      "to 1423\n",
      "the 1022\n",
      "a 960\n",
      "u 888\n",
      "and 776\n",
      "in 733\n",
      "me 687\n"
     ]
    }
   ],
   "source": [
    "nb.most_common_spam(10)\n",
    "nb.most_common_ham(10)"
   ]
  },
  {
   "cell_type": "markdown",
   "metadata": {},
   "source": [
    "## Conclusion\n",
    "\n",
    "It is clear from the results that the accuracy is increase around 2% as we introduced two new features in the multinomial naive bayes classifier"
   ]
  },
  {
   "cell_type": "code",
   "execution_count": null,
   "metadata": {
    "collapsed": true
   },
   "outputs": [],
   "source": []
  }
 ],
 "metadata": {
  "kernelspec": {
   "display_name": "Python 3",
   "language": "python",
   "name": "python3"
  },
  "language_info": {
   "codemirror_mode": {
    "name": "ipython",
    "version": 3
   },
   "file_extension": ".py",
   "mimetype": "text/x-python",
   "name": "python",
   "nbconvert_exporter": "python",
   "pygments_lexer": "ipython3",
   "version": "3.6.1"
  }
 },
 "nbformat": 4,
 "nbformat_minor": 2
}
